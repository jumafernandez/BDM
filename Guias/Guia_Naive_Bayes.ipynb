{
  "nbformat": 4,
  "nbformat_minor": 0,
  "metadata": {
    "colab": {
      "name": "Guia-Naive_Bayes.ipynb",
      "provenance": [],
      "include_colab_link": true
    },
    "kernelspec": {
      "name": "python3",
      "display_name": "Python 3"
    }
  },
  "cells": [
    {
      "cell_type": "markdown",
      "metadata": {
        "id": "view-in-github",
        "colab_type": "text"
      },
      "source": [
        "<a href=\"https://colab.research.google.com/github/jumafernandez/BDM/blob/master/Guias/Guia_Naive_Bayes.ipynb\" target=\"_parent\"><img src=\"https://colab.research.google.com/assets/colab-badge.svg\" alt=\"Open In Colab\"/></a>"
      ]
    },
    {
      "cell_type": "markdown",
      "metadata": {
        "id": "R7t49mkzKf-9",
        "colab_type": "text"
      },
      "source": [
        "# Naive Bayes con Scikit Learn\n",
        "\n",
        "## Introducción\n",
        "En esta guia vamos a experimientar como trabajar con el algoritmo de _naive Bayes_, que es una técnica de aprendizaje automático supervisada para clasificación. Vamos a utilizar el dataset _iris_, con el que ya hemos trabajado en varias guías de laboratorio y TP's.\n",
        "<br />\n",
        "A lo largo de esta guía veremos:\n",
        "- Como preprocesar el dataset y prepararlo para trabajar con Naive Bayes (NB) en Scikit Learn,\n",
        "- Como entrenar un clasificador NB con la librería Scikit Learn,\n",
        "- Como graficar el modelo entrenado,\n",
        "- Como generar nuevas métricas de evaluación de los modelos,\n",
        "- Cuales son los hiper-parámetros mas importantes del algoritmo,\n",
        "- Como predecir la clase ante la aparición de nuevas instancias utilizando el modelo y la probabilidad aparejada.\n",
        "\n",
        "## Trabajando con datos en Scikit Learn (Python)\n",
        "Para iniciar vamos a cargar los datos desde Scikit-Learn, que es una de las modalidades que ya veníamos trabajando. Como sabemos, se va a instanciar un objeto bunch que es básicamente un diccionario:\n"
      ]
    },
    {
      "cell_type": "code",
      "metadata": {
        "id": "YfsIoe-wKfwc",
        "colab_type": "code",
        "colab": {}
      },
      "source": [
        "# Importamos el dataset iris de la librerías sklearn.datasets\n",
        "from sklearn.datasets import load_iris\n",
        "\n",
        "# Iris será un objeto \"bunch\" que es básicamente un diccionario de Python con un conjunto de claves\n",
        "iris = load_iris()\n"
      ],
      "execution_count": 0,
      "outputs": []
    },
    {
      "cell_type": "markdown",
      "metadata": {
        "id": "nlJ3Fl0DK6Oi",
        "colab_type": "text"
      },
      "source": [
        "### Preprarando los datos para trabajar con NB en Scikit Learn\n",
        "\n",
        "Al igual que hicimos con árboles de clasificación, vamos a tener que transformar los atributos discretos a numéricos previo a entrenar el clasificador. En este caso, el dataset no va a sufrir modificaciones puesto que todos sus _features_ son continuos, pero el código es facilmente trasladable a datasets con atributos cualitativos."
      ]
    },
    {
      "cell_type": "code",
      "metadata": {
        "id": "_XSz4YSeK7D-",
        "colab_type": "code",
        "colab": {
          "base_uri": "https://localhost:8080/",
          "height": 119
        },
        "outputId": "cee5dad2-c7fe-46b1-ed06-a641d2834dcd"
      },
      "source": [
        "from sklearn import preprocessing\n",
        "\n",
        "# Cantidad de columnas\n",
        "ncols=iris.data.shape[1]\n",
        "\n",
        "# Creamos el objeto labelEncoder\n",
        "le = preprocessing.LabelEncoder()\n",
        "\n",
        "# Numerizamos todos los atributos que no sean numéricos\n",
        "for column in range(0, ncols-1):\n",
        "  if (iris.data[:,column].dtype == object):\n",
        "    iris.data[:,column] = le.fit_transform(iris.data[:,column])\n",
        "\n",
        "iris.data[0:6]"
      ],
      "execution_count": 110,
      "outputs": [
        {
          "output_type": "execute_result",
          "data": {
            "text/plain": [
              "array([[5.1, 3.5, 1.4, 0.2],\n",
              "       [4.9, 3. , 1.4, 0.2],\n",
              "       [4.7, 3.2, 1.3, 0.2],\n",
              "       [4.6, 3.1, 1.5, 0.2],\n",
              "       [5. , 3.6, 1.4, 0.2],\n",
              "       [5.4, 3.9, 1.7, 0.4]])"
            ]
          },
          "metadata": {
            "tags": []
          },
          "execution_count": 110
        }
      ]
    },
    {
      "cell_type": "markdown",
      "metadata": {
        "id": "IbXAwWlDV2mr",
        "colab_type": "text"
      },
      "source": [
        "Y generamos nuestro conjunto de _train_ y de _test_ como venimos haciendo:"
      ]
    },
    {
      "cell_type": "code",
      "metadata": {
        "id": "7U24RukFV85X",
        "colab_type": "code",
        "colab": {}
      },
      "source": [
        "from sklearn.model_selection import train_test_split\n",
        "\n",
        "# Separo en 70-30 entrenamiento y testeo\n",
        "x_train, x_test, y_train, y_test = train_test_split(iris.data, iris.target, random_state=0, test_size=0.3)\n"
      ],
      "execution_count": 0,
      "outputs": []
    },
    {
      "cell_type": "markdown",
      "metadata": {
        "id": "weNFL-cbSWRV",
        "colab_type": "text"
      },
      "source": [
        "## Clasificador Naive Bayes con Scikit Learn\n",
        "\n",
        "Scikit Learn provee tres clases para clasificación con Naive Bayes:\n",
        "- __GaussianNB:__ Éste clasificador supone que la distribución de los datos es gaussiana (__warning!__).\n",
        "-  __MultinomialNB:__ En éste caso, el caso, el clasificador asume un distribución multinomial de los datos.\n",
        "- __ComplementNB:__ Ésta es una tercera implementación del clasificador que posee optimizaciones para trabajar con datasets desbalanceados.\n",
        "<br /> \n",
        "\n",
        "En ésta guía vamos a limitarnos a trabajar con una única clase de éstas tres (MultinomialNB) pero sería muy sencillo cambiar el clasificador puesto que las tres clases poseen métodos muy similares.\n",
        "\n",
        "<br />\n",
        "\n",
        "### Entrenando un clasificador NB\n",
        "A continuación, vamos a explorar como entrenar clasificador Naive Bayes, analizar el modelo entrenado y evaluarlo:"
      ]
    },
    {
      "cell_type": "code",
      "metadata": {
        "id": "3Pn5tRAMSm74",
        "colab_type": "code",
        "colab": {}
      },
      "source": [
        "# Importamos el módulo GaussianNB de scikit-learn\n",
        "from sklearn.naive_bayes import GaussianNB, MultinomialNB, ComplementNB\n",
        "\n",
        "modelo = GaussianNB()\n"
      ],
      "execution_count": 0,
      "outputs": []
    },
    {
      "cell_type": "markdown",
      "metadata": {
        "id": "Ira9JnK1Tawp",
        "colab_type": "text"
      },
      "source": [
        "Ahora vamos a entrenar el modelo, para ello le pasamos los datos de los _features_ y el _target_:"
      ]
    },
    {
      "cell_type": "code",
      "metadata": {
        "id": "5b96OJUFToz9",
        "colab_type": "code",
        "colab": {
          "base_uri": "https://localhost:8080/",
          "height": 34
        },
        "outputId": "f179af2b-53a0-41f6-dbcf-eede8fc5cc4f"
      },
      "source": [
        "# Ahora vamos a entrenar el dato con el método fit -le pasamos los X e Y\n",
        "# X e Y (X=atributos e Y=target)\n",
        "modelo.fit(x_train, y_train)\n"
      ],
      "execution_count": 113,
      "outputs": [
        {
          "output_type": "execute_result",
          "data": {
            "text/plain": [
              "GaussianNB(priors=None, var_smoothing=1e-09)"
            ]
          },
          "metadata": {
            "tags": []
          },
          "execution_count": 113
        }
      ]
    },
    {
      "cell_type": "markdown",
      "metadata": {
        "id": "sU14aoOZDU7u",
        "colab_type": "text"
      },
      "source": [
        "## Utilizando el modelo para clasificar/predecir casos nuevos\n",
        "\n",
        "A partir del modelo generado, podríamos darle un nuevo caso y el árbol debería clasificarlo, lo cual equivale a \"predecir\" su clase:"
      ]
    },
    {
      "cell_type": "code",
      "metadata": {
        "id": "we0OSJ_vDVjW",
        "colab_type": "code",
        "colab": {
          "base_uri": "https://localhost:8080/",
          "height": 68
        },
        "outputId": "a0c8c8fe-e1ab-4864-9d77-f3b8dc163bb4"
      },
      "source": [
        "# Haciendo nuevas predicciones a partir de los datos\n",
        "pred_ejemplo1 = int(modelo.predict([[5, 7, 1, 3]]))\n",
        "pred_ejemplo2 = int(modelo.predict([[1, 1, 1, 1]]))\n",
        "pred_ejemplo3 = int(modelo.predict([[15, 17, 11, 13]]))\n",
        "\n",
        "print(f\"Este ejemplo corresponde a una flor {iris.target_names[pred_ejemplo1]}.\")\n",
        "print(f\"Este ejemplo corresponde a una flor {iris.target_names[pred_ejemplo2]}.\")\n",
        "print(f\"Este ejemplo corresponde a una flor {iris.target_names[pred_ejemplo3]}.\")\n"
      ],
      "execution_count": 114,
      "outputs": [
        {
          "output_type": "stream",
          "text": [
            "Este ejemplo corresponde a una flor virginica.\n",
            "Este ejemplo corresponde a una flor versicolor.\n",
            "Este ejemplo corresponde a una flor virginica.\n"
          ],
          "name": "stdout"
        }
      ]
    },
    {
      "cell_type": "markdown",
      "metadata": {
        "id": "Hj2YSiHcAXXZ",
        "colab_type": "text"
      },
      "source": [
        "## Parámetros de NB\n",
        "\n",
        "Como la mayoría de los algoritmos de aprendizaje automático, NB posee hiper-parámetros que podemos ajustar."
      ]
    },
    {
      "cell_type": "code",
      "metadata": {
        "id": "bnMb4k-WA06c",
        "colab_type": "code",
        "colab": {
          "base_uri": "https://localhost:8080/",
          "height": 34
        },
        "outputId": "9c6ec00d-a5f4-4f7d-c691-d25549f11b26"
      },
      "source": [
        "from sklearn import metrics\n",
        "\n",
        "# Creo nuevamente el objeto\n",
        "# En este caso, instancio, los parametros a ajustar son:\n",
        "# priors: cual es el criterio utilizado para la separación de instancias (gini o entropy)\n",
        "# var_smoothing: máxima profundidad del árbol en términos de niveles\n",
        "# fit_prior: (Solo para MultinomialNB y ComplementNB)=True\n",
        "# norm (Solo para ComplementNB)\n",
        "modelo_parametrizado = GaussianNB()\n",
        "\n",
        "# Entreno el Decision Tree Classifer con el mismo muestreo generado antes (70-30 %)\n",
        "modelo_parametrizado = modelo_parametrizado.fit(X_train,y_train)\n",
        "\n",
        "#Predict the response for test dataset\n",
        "y_pred = modelo_parametrizado.predict(X_test)\n",
        "\n",
        "print(\"Accuracy:\",metrics.accuracy_score(y_test, y_pred))\n"
      ],
      "execution_count": 115,
      "outputs": [
        {
          "output_type": "stream",
          "text": [
            "Accuracy: 1.0\n"
          ],
          "name": "stdout"
        }
      ]
    },
    {
      "cell_type": "markdown",
      "metadata": {
        "id": "JRIJ_PRZ-Xbo",
        "colab_type": "text"
      },
      "source": [
        "## Métricas de evaluación de modelos\n",
        "\n",
        "Como vimos en teoría, luego debemos evaluar el modelo generado, para saber que tan robusto es. En _Scikit Learn_ lo hacemos de la siguiente manera:"
      ]
    },
    {
      "cell_type": "code",
      "metadata": {
        "id": "gh12t28--ZPn",
        "colab_type": "code",
        "colab": {
          "base_uri": "https://localhost:8080/",
          "height": 204
        },
        "outputId": "d754da0f-19ba-4574-b787-8f522cda7cc1"
      },
      "source": [
        "#Importar el módulo metrics de scikit-learn\n",
        "from sklearn.metrics import roc_curve, auc, accuracy_score, classification_report\n",
        "\n",
        "# Vamos a testear el modelo\n",
        "print(\"Accuracy:\",accuracy_score(y_test, y_pred))\n",
        "\n",
        "# Vemos un reporte de clasificación de varias métricas\n",
        "print(classification_report(y_test, y_pred))\n"
      ],
      "execution_count": 116,
      "outputs": [
        {
          "output_type": "stream",
          "text": [
            "Accuracy: 1.0\n",
            "              precision    recall  f1-score   support\n",
            "\n",
            "           0       1.00      1.00      1.00        16\n",
            "           1       1.00      1.00      1.00        18\n",
            "           2       1.00      1.00      1.00        11\n",
            "\n",
            "    accuracy                           1.00        45\n",
            "   macro avg       1.00      1.00      1.00        45\n",
            "weighted avg       1.00      1.00      1.00        45\n",
            "\n"
          ],
          "name": "stdout"
        }
      ]
    },
    {
      "cell_type": "code",
      "metadata": {
        "id": "pHgEEn_QFkZx",
        "colab_type": "code",
        "colab": {
          "base_uri": "https://localhost:8080/",
          "height": 298
        },
        "outputId": "6567485e-6ef3-4b7e-c8b2-2e2bc04ce9b7"
      },
      "source": [
        "import numpy as np\n",
        "import seaborn as sns; sns.set()\n",
        "import matplotlib.pyplot as plt\n",
        "\n",
        "species = np.array(y_test)\n",
        "predictions = np.array(y_pred)\n",
        "\n",
        "mat = metrics.confusion_matrix(species, predictions)\n",
        "\n",
        "sns.heatmap(mat.T, square=True, annot=True, fmt='d', cbar=False,\n",
        "            xticklabels=iris.target_names, yticklabels=iris.target_names)\n",
        "\n",
        "plt.xlabel('true label')\n",
        "plt.ylabel('predicted label');\n"
      ],
      "execution_count": 117,
      "outputs": [
        {
          "output_type": "display_data",
          "data": {
            "image/png": "[encoded data removed]",
            "text/plain": [
              "<Figure size 432x288 with 1 Axes>"
            ]
          },
          "metadata": {
            "tags": []
          }
        }
      ]
    },
    {
      "cell_type": "markdown",
      "metadata": {
        "id": "ulWtSbCI5-tG",
        "colab_type": "text"
      },
      "source": [
        "## Referencias & Recursos Web\n",
        "\n",
        "- https://scikit-learn.org/stable/modules/naive_bayes.html\n",
        "\n",
        "- https://www.datacamp.com/community/tutorials/naive-bayes-scikit-learn\n",
        "\n",
        "- https://jakevdp.github.io/PythonDataScienceHandbook/05.05-naive-bayes.html\n",
        "\n",
        "- https://www.sicara.ai/blog/2018-02-28-naive-bayes-classification-sklearn\n"
      ]
    }
  ]
}